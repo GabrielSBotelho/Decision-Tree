{
  "nbformat": 4,
  "nbformat_minor": 0,
  "metadata": {
    "colab": {
      "name": "DecisionTree_Regression.ipynb",
      "provenance": [],
      "collapsed_sections": [],
      "mount_file_id": "1X2mKIGaG8xIxTJNkdTIq-vwjHYRm_cQL",
      "authorship_tag": "ABX9TyNfhNQkqTtjoYMIY78nnMMH"
    },
    "kernelspec": {
      "name": "python3",
      "display_name": "Python 3"
    },
    "language_info": {
      "name": "python"
    }
  },
  "cells": [
    {
      "cell_type": "markdown",
      "source": [
        "Autor: Gabriel de Sousa Botelho\n",
        "\n",
        "Formação: Cientista da Computação pela UFC\n",
        "\n",
        "Contato:\n",
        "  \n",
        "  📧 gabrielsbotelho12@gmail.com\n",
        "  \n",
        "  👉 [LinkedIn](https://www.linkedin.com/in/gabriel-botelhoo/)\n",
        "  \n",
        "  👉 [Github](https://github.com/GabrielSBotelho)\n"
      ],
      "metadata": {
        "id": "zR_BrQ1vvSKv"
      }
    },
    {
      "cell_type": "markdown",
      "source": [
        "# Projeto de Árvore de Decisão de Regressão\n",
        "\n",
        "* Objetivo: Avaliar o dataset e a partir de seus dados criar um modelo de árvore de decisão de regressão.\n",
        "\n",
        "* Objetivos Específicos:\n",
        "  \n",
        "  1. Importar e tratar base de dados\n",
        "  2. Avaliar melhor valor da parâmetro *'min_sample_leaf'* baseado na métrica *mean_scored_error*\n",
        "  3. Criar modelo de ávore de decisão de regressão\n",
        "  4. Avaliar resultados\n",
        "\n",
        "Os dados utilizados neste projeto podem ser encontrados [aqui](https://www.kaggle.com/kolawale/focusing-on-mobile-app-or-website)."
      ],
      "metadata": {
        "id": "mFfHZKfwsOif"
      }
    },
    {
      "cell_type": "markdown",
      "source": [
        "## Importando Dados"
      ],
      "metadata": {
        "id": "yhC3s5Y52-E2"
      }
    },
    {
      "cell_type": "code",
      "execution_count": 2,
      "metadata": {
        "colab": {
          "base_uri": "https://localhost:8080/"
        },
        "id": "jmYHMSHTuWnQ",
        "outputId": "356e8f6a-6b72-4bb2-e555-db579d239a13"
      },
      "outputs": [
        {
          "output_type": "stream",
          "name": "stdout",
          "text": [
            "Populating the interactive namespace from numpy and matplotlib\n"
          ]
        }
      ],
      "source": [
        "import pandas as pd\n",
        "import numpy as np\n",
        "import seaborn as sns\n",
        "%pylab inline"
      ]
    },
    {
      "cell_type": "code",
      "source": [
        "path = '/content/drive/MyDrive/Data Science/Dados/E-commerce Customers/Ecommerce Customers'\n",
        "dataframe = pd.read_csv(path)\n",
        "dataframe.head()"
      ],
      "metadata": {
        "colab": {
          "base_uri": "https://localhost:8080/",
          "height": 354
        },
        "id": "-rdcqedx12ar",
        "outputId": "1126feea-2ea5-4324-d901-1c262d3f1308"
      },
      "execution_count": 3,
      "outputs": [
        {
          "output_type": "execute_result",
          "data": {
            "text/plain": [
              "                           Email  \\\n",
              "0      mstephenson@fernandez.com   \n",
              "1              hduke@hotmail.com   \n",
              "2               pallen@yahoo.com   \n",
              "3        riverarebecca@gmail.com   \n",
              "4  mstephens@davidson-herman.com   \n",
              "\n",
              "                                             Address            Avatar  \\\n",
              "0       835 Frank Tunnel\\nWrightmouth, MI 82180-9605            Violet   \n",
              "1     4547 Archer Common\\nDiazchester, CA 06566-8576         DarkGreen   \n",
              "2  24645 Valerie Unions Suite 582\\nCobbborough, D...            Bisque   \n",
              "3   1414 David Throughway\\nPort Jason, OH 22070-1220       SaddleBrown   \n",
              "4  14023 Rodriguez Passage\\nPort Jacobville, PR 3...  MediumAquaMarine   \n",
              "\n",
              "   Avg. Session Length  Time on App  Time on Website  Length of Membership  \\\n",
              "0            34.497268    12.655651        39.577668              4.082621   \n",
              "1            31.926272    11.109461        37.268959              2.664034   \n",
              "2            33.000915    11.330278        37.110597              4.104543   \n",
              "3            34.305557    13.717514        36.721283              3.120179   \n",
              "4            33.330673    12.795189        37.536653              4.446308   \n",
              "\n",
              "   Yearly Amount Spent  \n",
              "0           587.951054  \n",
              "1           392.204933  \n",
              "2           487.547505  \n",
              "3           581.852344  \n",
              "4           599.406092  "
            ],
            "text/html": [
              "\n",
              "  <div id=\"df-3f814eab-57d1-4d64-a7e1-e3e3a2b74c8d\">\n",
              "    <div class=\"colab-df-container\">\n",
              "      <div>\n",
              "<style scoped>\n",
              "    .dataframe tbody tr th:only-of-type {\n",
              "        vertical-align: middle;\n",
              "    }\n",
              "\n",
              "    .dataframe tbody tr th {\n",
              "        vertical-align: top;\n",
              "    }\n",
              "\n",
              "    .dataframe thead th {\n",
              "        text-align: right;\n",
              "    }\n",
              "</style>\n",
              "<table border=\"1\" class=\"dataframe\">\n",
              "  <thead>\n",
              "    <tr style=\"text-align: right;\">\n",
              "      <th></th>\n",
              "      <th>Email</th>\n",
              "      <th>Address</th>\n",
              "      <th>Avatar</th>\n",
              "      <th>Avg. Session Length</th>\n",
              "      <th>Time on App</th>\n",
              "      <th>Time on Website</th>\n",
              "      <th>Length of Membership</th>\n",
              "      <th>Yearly Amount Spent</th>\n",
              "    </tr>\n",
              "  </thead>\n",
              "  <tbody>\n",
              "    <tr>\n",
              "      <th>0</th>\n",
              "      <td>mstephenson@fernandez.com</td>\n",
              "      <td>835 Frank Tunnel\\nWrightmouth, MI 82180-9605</td>\n",
              "      <td>Violet</td>\n",
              "      <td>34.497268</td>\n",
              "      <td>12.655651</td>\n",
              "      <td>39.577668</td>\n",
              "      <td>4.082621</td>\n",
              "      <td>587.951054</td>\n",
              "    </tr>\n",
              "    <tr>\n",
              "      <th>1</th>\n",
              "      <td>hduke@hotmail.com</td>\n",
              "      <td>4547 Archer Common\\nDiazchester, CA 06566-8576</td>\n",
              "      <td>DarkGreen</td>\n",
              "      <td>31.926272</td>\n",
              "      <td>11.109461</td>\n",
              "      <td>37.268959</td>\n",
              "      <td>2.664034</td>\n",
              "      <td>392.204933</td>\n",
              "    </tr>\n",
              "    <tr>\n",
              "      <th>2</th>\n",
              "      <td>pallen@yahoo.com</td>\n",
              "      <td>24645 Valerie Unions Suite 582\\nCobbborough, D...</td>\n",
              "      <td>Bisque</td>\n",
              "      <td>33.000915</td>\n",
              "      <td>11.330278</td>\n",
              "      <td>37.110597</td>\n",
              "      <td>4.104543</td>\n",
              "      <td>487.547505</td>\n",
              "    </tr>\n",
              "    <tr>\n",
              "      <th>3</th>\n",
              "      <td>riverarebecca@gmail.com</td>\n",
              "      <td>1414 David Throughway\\nPort Jason, OH 22070-1220</td>\n",
              "      <td>SaddleBrown</td>\n",
              "      <td>34.305557</td>\n",
              "      <td>13.717514</td>\n",
              "      <td>36.721283</td>\n",
              "      <td>3.120179</td>\n",
              "      <td>581.852344</td>\n",
              "    </tr>\n",
              "    <tr>\n",
              "      <th>4</th>\n",
              "      <td>mstephens@davidson-herman.com</td>\n",
              "      <td>14023 Rodriguez Passage\\nPort Jacobville, PR 3...</td>\n",
              "      <td>MediumAquaMarine</td>\n",
              "      <td>33.330673</td>\n",
              "      <td>12.795189</td>\n",
              "      <td>37.536653</td>\n",
              "      <td>4.446308</td>\n",
              "      <td>599.406092</td>\n",
              "    </tr>\n",
              "  </tbody>\n",
              "</table>\n",
              "</div>\n",
              "      <button class=\"colab-df-convert\" onclick=\"convertToInteractive('df-3f814eab-57d1-4d64-a7e1-e3e3a2b74c8d')\"\n",
              "              title=\"Convert this dataframe to an interactive table.\"\n",
              "              style=\"display:none;\">\n",
              "        \n",
              "  <svg xmlns=\"http://www.w3.org/2000/svg\" height=\"24px\"viewBox=\"0 0 24 24\"\n",
              "       width=\"24px\">\n",
              "    <path d=\"M0 0h24v24H0V0z\" fill=\"none\"/>\n",
              "    <path d=\"M18.56 5.44l.94 2.06.94-2.06 2.06-.94-2.06-.94-.94-2.06-.94 2.06-2.06.94zm-11 1L8.5 8.5l.94-2.06 2.06-.94-2.06-.94L8.5 2.5l-.94 2.06-2.06.94zm10 10l.94 2.06.94-2.06 2.06-.94-2.06-.94-.94-2.06-.94 2.06-2.06.94z\"/><path d=\"M17.41 7.96l-1.37-1.37c-.4-.4-.92-.59-1.43-.59-.52 0-1.04.2-1.43.59L10.3 9.45l-7.72 7.72c-.78.78-.78 2.05 0 2.83L4 21.41c.39.39.9.59 1.41.59.51 0 1.02-.2 1.41-.59l7.78-7.78 2.81-2.81c.8-.78.8-2.07 0-2.86zM5.41 20L4 18.59l7.72-7.72 1.47 1.35L5.41 20z\"/>\n",
              "  </svg>\n",
              "      </button>\n",
              "      \n",
              "  <style>\n",
              "    .colab-df-container {\n",
              "      display:flex;\n",
              "      flex-wrap:wrap;\n",
              "      gap: 12px;\n",
              "    }\n",
              "\n",
              "    .colab-df-convert {\n",
              "      background-color: #E8F0FE;\n",
              "      border: none;\n",
              "      border-radius: 50%;\n",
              "      cursor: pointer;\n",
              "      display: none;\n",
              "      fill: #1967D2;\n",
              "      height: 32px;\n",
              "      padding: 0 0 0 0;\n",
              "      width: 32px;\n",
              "    }\n",
              "\n",
              "    .colab-df-convert:hover {\n",
              "      background-color: #E2EBFA;\n",
              "      box-shadow: 0px 1px 2px rgba(60, 64, 67, 0.3), 0px 1px 3px 1px rgba(60, 64, 67, 0.15);\n",
              "      fill: #174EA6;\n",
              "    }\n",
              "\n",
              "    [theme=dark] .colab-df-convert {\n",
              "      background-color: #3B4455;\n",
              "      fill: #D2E3FC;\n",
              "    }\n",
              "\n",
              "    [theme=dark] .colab-df-convert:hover {\n",
              "      background-color: #434B5C;\n",
              "      box-shadow: 0px 1px 3px 1px rgba(0, 0, 0, 0.15);\n",
              "      filter: drop-shadow(0px 1px 2px rgba(0, 0, 0, 0.3));\n",
              "      fill: #FFFFFF;\n",
              "    }\n",
              "  </style>\n",
              "\n",
              "      <script>\n",
              "        const buttonEl =\n",
              "          document.querySelector('#df-3f814eab-57d1-4d64-a7e1-e3e3a2b74c8d button.colab-df-convert');\n",
              "        buttonEl.style.display =\n",
              "          google.colab.kernel.accessAllowed ? 'block' : 'none';\n",
              "\n",
              "        async function convertToInteractive(key) {\n",
              "          const element = document.querySelector('#df-3f814eab-57d1-4d64-a7e1-e3e3a2b74c8d');\n",
              "          const dataTable =\n",
              "            await google.colab.kernel.invokeFunction('convertToInteractive',\n",
              "                                                     [key], {});\n",
              "          if (!dataTable) return;\n",
              "\n",
              "          const docLinkHtml = 'Like what you see? Visit the ' +\n",
              "            '<a target=\"_blank\" href=https://colab.research.google.com/notebooks/data_table.ipynb>data table notebook</a>'\n",
              "            + ' to learn more about interactive tables.';\n",
              "          element.innerHTML = '';\n",
              "          dataTable['output_type'] = 'display_data';\n",
              "          await google.colab.output.renderOutput(dataTable, element);\n",
              "          const docLink = document.createElement('div');\n",
              "          docLink.innerHTML = docLinkHtml;\n",
              "          element.appendChild(docLink);\n",
              "        }\n",
              "      </script>\n",
              "    </div>\n",
              "  </div>\n",
              "  "
            ]
          },
          "metadata": {},
          "execution_count": 3
        }
      ]
    },
    {
      "cell_type": "code",
      "source": [
        "dataframe.info()"
      ],
      "metadata": {
        "colab": {
          "base_uri": "https://localhost:8080/"
        },
        "id": "eo2P-nrQ12e5",
        "outputId": "dac292b1-39b8-4ff2-8b7a-24c8a1f1333c"
      },
      "execution_count": 4,
      "outputs": [
        {
          "output_type": "stream",
          "name": "stdout",
          "text": [
            "<class 'pandas.core.frame.DataFrame'>\n",
            "RangeIndex: 500 entries, 0 to 499\n",
            "Data columns (total 8 columns):\n",
            " #   Column                Non-Null Count  Dtype  \n",
            "---  ------                --------------  -----  \n",
            " 0   Email                 500 non-null    object \n",
            " 1   Address               500 non-null    object \n",
            " 2   Avatar                500 non-null    object \n",
            " 3   Avg. Session Length   500 non-null    float64\n",
            " 4   Time on App           500 non-null    float64\n",
            " 5   Time on Website       500 non-null    float64\n",
            " 6   Length of Membership  500 non-null    float64\n",
            " 7   Yearly Amount Spent   500 non-null    float64\n",
            "dtypes: float64(5), object(3)\n",
            "memory usage: 31.4+ KB\n"
          ]
        }
      ]
    },
    {
      "cell_type": "code",
      "source": [
        "dataframe.describe()"
      ],
      "metadata": {
        "colab": {
          "base_uri": "https://localhost:8080/",
          "height": 300
        },
        "id": "98rcXTpX12i4",
        "outputId": "22f3af6e-b63b-4424-862b-043289e8492c"
      },
      "execution_count": 5,
      "outputs": [
        {
          "output_type": "execute_result",
          "data": {
            "text/plain": [
              "       Avg. Session Length  Time on App  Time on Website  \\\n",
              "count           500.000000   500.000000       500.000000   \n",
              "mean             33.053194    12.052488        37.060445   \n",
              "std               0.992563     0.994216         1.010489   \n",
              "min              29.532429     8.508152        33.913847   \n",
              "25%              32.341822    11.388153        36.349257   \n",
              "50%              33.082008    11.983231        37.069367   \n",
              "75%              33.711985    12.753850        37.716432   \n",
              "max              36.139662    15.126994        40.005182   \n",
              "\n",
              "       Length of Membership  Yearly Amount Spent  \n",
              "count            500.000000           500.000000  \n",
              "mean               3.533462           499.314038  \n",
              "std                0.999278            79.314782  \n",
              "min                0.269901           256.670582  \n",
              "25%                2.930450           445.038277  \n",
              "50%                3.533975           498.887875  \n",
              "75%                4.126502           549.313828  \n",
              "max                6.922689           765.518462  "
            ],
            "text/html": [
              "\n",
              "  <div id=\"df-ec8bfa6e-5bf1-4a61-b5b6-dd0017121149\">\n",
              "    <div class=\"colab-df-container\">\n",
              "      <div>\n",
              "<style scoped>\n",
              "    .dataframe tbody tr th:only-of-type {\n",
              "        vertical-align: middle;\n",
              "    }\n",
              "\n",
              "    .dataframe tbody tr th {\n",
              "        vertical-align: top;\n",
              "    }\n",
              "\n",
              "    .dataframe thead th {\n",
              "        text-align: right;\n",
              "    }\n",
              "</style>\n",
              "<table border=\"1\" class=\"dataframe\">\n",
              "  <thead>\n",
              "    <tr style=\"text-align: right;\">\n",
              "      <th></th>\n",
              "      <th>Avg. Session Length</th>\n",
              "      <th>Time on App</th>\n",
              "      <th>Time on Website</th>\n",
              "      <th>Length of Membership</th>\n",
              "      <th>Yearly Amount Spent</th>\n",
              "    </tr>\n",
              "  </thead>\n",
              "  <tbody>\n",
              "    <tr>\n",
              "      <th>count</th>\n",
              "      <td>500.000000</td>\n",
              "      <td>500.000000</td>\n",
              "      <td>500.000000</td>\n",
              "      <td>500.000000</td>\n",
              "      <td>500.000000</td>\n",
              "    </tr>\n",
              "    <tr>\n",
              "      <th>mean</th>\n",
              "      <td>33.053194</td>\n",
              "      <td>12.052488</td>\n",
              "      <td>37.060445</td>\n",
              "      <td>3.533462</td>\n",
              "      <td>499.314038</td>\n",
              "    </tr>\n",
              "    <tr>\n",
              "      <th>std</th>\n",
              "      <td>0.992563</td>\n",
              "      <td>0.994216</td>\n",
              "      <td>1.010489</td>\n",
              "      <td>0.999278</td>\n",
              "      <td>79.314782</td>\n",
              "    </tr>\n",
              "    <tr>\n",
              "      <th>min</th>\n",
              "      <td>29.532429</td>\n",
              "      <td>8.508152</td>\n",
              "      <td>33.913847</td>\n",
              "      <td>0.269901</td>\n",
              "      <td>256.670582</td>\n",
              "    </tr>\n",
              "    <tr>\n",
              "      <th>25%</th>\n",
              "      <td>32.341822</td>\n",
              "      <td>11.388153</td>\n",
              "      <td>36.349257</td>\n",
              "      <td>2.930450</td>\n",
              "      <td>445.038277</td>\n",
              "    </tr>\n",
              "    <tr>\n",
              "      <th>50%</th>\n",
              "      <td>33.082008</td>\n",
              "      <td>11.983231</td>\n",
              "      <td>37.069367</td>\n",
              "      <td>3.533975</td>\n",
              "      <td>498.887875</td>\n",
              "    </tr>\n",
              "    <tr>\n",
              "      <th>75%</th>\n",
              "      <td>33.711985</td>\n",
              "      <td>12.753850</td>\n",
              "      <td>37.716432</td>\n",
              "      <td>4.126502</td>\n",
              "      <td>549.313828</td>\n",
              "    </tr>\n",
              "    <tr>\n",
              "      <th>max</th>\n",
              "      <td>36.139662</td>\n",
              "      <td>15.126994</td>\n",
              "      <td>40.005182</td>\n",
              "      <td>6.922689</td>\n",
              "      <td>765.518462</td>\n",
              "    </tr>\n",
              "  </tbody>\n",
              "</table>\n",
              "</div>\n",
              "      <button class=\"colab-df-convert\" onclick=\"convertToInteractive('df-ec8bfa6e-5bf1-4a61-b5b6-dd0017121149')\"\n",
              "              title=\"Convert this dataframe to an interactive table.\"\n",
              "              style=\"display:none;\">\n",
              "        \n",
              "  <svg xmlns=\"http://www.w3.org/2000/svg\" height=\"24px\"viewBox=\"0 0 24 24\"\n",
              "       width=\"24px\">\n",
              "    <path d=\"M0 0h24v24H0V0z\" fill=\"none\"/>\n",
              "    <path d=\"M18.56 5.44l.94 2.06.94-2.06 2.06-.94-2.06-.94-.94-2.06-.94 2.06-2.06.94zm-11 1L8.5 8.5l.94-2.06 2.06-.94-2.06-.94L8.5 2.5l-.94 2.06-2.06.94zm10 10l.94 2.06.94-2.06 2.06-.94-2.06-.94-.94-2.06-.94 2.06-2.06.94z\"/><path d=\"M17.41 7.96l-1.37-1.37c-.4-.4-.92-.59-1.43-.59-.52 0-1.04.2-1.43.59L10.3 9.45l-7.72 7.72c-.78.78-.78 2.05 0 2.83L4 21.41c.39.39.9.59 1.41.59.51 0 1.02-.2 1.41-.59l7.78-7.78 2.81-2.81c.8-.78.8-2.07 0-2.86zM5.41 20L4 18.59l7.72-7.72 1.47 1.35L5.41 20z\"/>\n",
              "  </svg>\n",
              "      </button>\n",
              "      \n",
              "  <style>\n",
              "    .colab-df-container {\n",
              "      display:flex;\n",
              "      flex-wrap:wrap;\n",
              "      gap: 12px;\n",
              "    }\n",
              "\n",
              "    .colab-df-convert {\n",
              "      background-color: #E8F0FE;\n",
              "      border: none;\n",
              "      border-radius: 50%;\n",
              "      cursor: pointer;\n",
              "      display: none;\n",
              "      fill: #1967D2;\n",
              "      height: 32px;\n",
              "      padding: 0 0 0 0;\n",
              "      width: 32px;\n",
              "    }\n",
              "\n",
              "    .colab-df-convert:hover {\n",
              "      background-color: #E2EBFA;\n",
              "      box-shadow: 0px 1px 2px rgba(60, 64, 67, 0.3), 0px 1px 3px 1px rgba(60, 64, 67, 0.15);\n",
              "      fill: #174EA6;\n",
              "    }\n",
              "\n",
              "    [theme=dark] .colab-df-convert {\n",
              "      background-color: #3B4455;\n",
              "      fill: #D2E3FC;\n",
              "    }\n",
              "\n",
              "    [theme=dark] .colab-df-convert:hover {\n",
              "      background-color: #434B5C;\n",
              "      box-shadow: 0px 1px 3px 1px rgba(0, 0, 0, 0.15);\n",
              "      filter: drop-shadow(0px 1px 2px rgba(0, 0, 0, 0.3));\n",
              "      fill: #FFFFFF;\n",
              "    }\n",
              "  </style>\n",
              "\n",
              "      <script>\n",
              "        const buttonEl =\n",
              "          document.querySelector('#df-ec8bfa6e-5bf1-4a61-b5b6-dd0017121149 button.colab-df-convert');\n",
              "        buttonEl.style.display =\n",
              "          google.colab.kernel.accessAllowed ? 'block' : 'none';\n",
              "\n",
              "        async function convertToInteractive(key) {\n",
              "          const element = document.querySelector('#df-ec8bfa6e-5bf1-4a61-b5b6-dd0017121149');\n",
              "          const dataTable =\n",
              "            await google.colab.kernel.invokeFunction('convertToInteractive',\n",
              "                                                     [key], {});\n",
              "          if (!dataTable) return;\n",
              "\n",
              "          const docLinkHtml = 'Like what you see? Visit the ' +\n",
              "            '<a target=\"_blank\" href=https://colab.research.google.com/notebooks/data_table.ipynb>data table notebook</a>'\n",
              "            + ' to learn more about interactive tables.';\n",
              "          element.innerHTML = '';\n",
              "          dataTable['output_type'] = 'display_data';\n",
              "          await google.colab.output.renderOutput(dataTable, element);\n",
              "          const docLink = document.createElement('div');\n",
              "          docLink.innerHTML = docLinkHtml;\n",
              "          element.appendChild(docLink);\n",
              "        }\n",
              "      </script>\n",
              "    </div>\n",
              "  </div>\n",
              "  "
            ]
          },
          "metadata": {},
          "execution_count": 5
        }
      ]
    },
    {
      "cell_type": "code",
      "source": [
        "dataframe.isna().sum()"
      ],
      "metadata": {
        "colab": {
          "base_uri": "https://localhost:8080/"
        },
        "id": "ntfiu4et3Kf5",
        "outputId": "aa9c0d24-40aa-46ab-8c23-b0b32f828fb1"
      },
      "execution_count": 6,
      "outputs": [
        {
          "output_type": "execute_result",
          "data": {
            "text/plain": [
              "Email                   0\n",
              "Address                 0\n",
              "Avatar                  0\n",
              "Avg. Session Length     0\n",
              "Time on App             0\n",
              "Time on Website         0\n",
              "Length of Membership    0\n",
              "Yearly Amount Spent     0\n",
              "dtype: int64"
            ]
          },
          "metadata": {},
          "execution_count": 6
        }
      ]
    },
    {
      "cell_type": "code",
      "source": [
        "data = dataframe.drop(columns=['Email', 'Address', 'Avatar'], axis=1)\n",
        "data.head()"
      ],
      "metadata": {
        "colab": {
          "base_uri": "https://localhost:8080/",
          "height": 206
        },
        "id": "BNA0-7th12mx",
        "outputId": "5638b724-1163-41e9-9341-79efe69aac8f"
      },
      "execution_count": 7,
      "outputs": [
        {
          "output_type": "execute_result",
          "data": {
            "text/plain": [
              "   Avg. Session Length  Time on App  Time on Website  Length of Membership  \\\n",
              "0            34.497268    12.655651        39.577668              4.082621   \n",
              "1            31.926272    11.109461        37.268959              2.664034   \n",
              "2            33.000915    11.330278        37.110597              4.104543   \n",
              "3            34.305557    13.717514        36.721283              3.120179   \n",
              "4            33.330673    12.795189        37.536653              4.446308   \n",
              "\n",
              "   Yearly Amount Spent  \n",
              "0           587.951054  \n",
              "1           392.204933  \n",
              "2           487.547505  \n",
              "3           581.852344  \n",
              "4           599.406092  "
            ],
            "text/html": [
              "\n",
              "  <div id=\"df-6f5439f4-e612-4876-8b77-c5d4a18e00c4\">\n",
              "    <div class=\"colab-df-container\">\n",
              "      <div>\n",
              "<style scoped>\n",
              "    .dataframe tbody tr th:only-of-type {\n",
              "        vertical-align: middle;\n",
              "    }\n",
              "\n",
              "    .dataframe tbody tr th {\n",
              "        vertical-align: top;\n",
              "    }\n",
              "\n",
              "    .dataframe thead th {\n",
              "        text-align: right;\n",
              "    }\n",
              "</style>\n",
              "<table border=\"1\" class=\"dataframe\">\n",
              "  <thead>\n",
              "    <tr style=\"text-align: right;\">\n",
              "      <th></th>\n",
              "      <th>Avg. Session Length</th>\n",
              "      <th>Time on App</th>\n",
              "      <th>Time on Website</th>\n",
              "      <th>Length of Membership</th>\n",
              "      <th>Yearly Amount Spent</th>\n",
              "    </tr>\n",
              "  </thead>\n",
              "  <tbody>\n",
              "    <tr>\n",
              "      <th>0</th>\n",
              "      <td>34.497268</td>\n",
              "      <td>12.655651</td>\n",
              "      <td>39.577668</td>\n",
              "      <td>4.082621</td>\n",
              "      <td>587.951054</td>\n",
              "    </tr>\n",
              "    <tr>\n",
              "      <th>1</th>\n",
              "      <td>31.926272</td>\n",
              "      <td>11.109461</td>\n",
              "      <td>37.268959</td>\n",
              "      <td>2.664034</td>\n",
              "      <td>392.204933</td>\n",
              "    </tr>\n",
              "    <tr>\n",
              "      <th>2</th>\n",
              "      <td>33.000915</td>\n",
              "      <td>11.330278</td>\n",
              "      <td>37.110597</td>\n",
              "      <td>4.104543</td>\n",
              "      <td>487.547505</td>\n",
              "    </tr>\n",
              "    <tr>\n",
              "      <th>3</th>\n",
              "      <td>34.305557</td>\n",
              "      <td>13.717514</td>\n",
              "      <td>36.721283</td>\n",
              "      <td>3.120179</td>\n",
              "      <td>581.852344</td>\n",
              "    </tr>\n",
              "    <tr>\n",
              "      <th>4</th>\n",
              "      <td>33.330673</td>\n",
              "      <td>12.795189</td>\n",
              "      <td>37.536653</td>\n",
              "      <td>4.446308</td>\n",
              "      <td>599.406092</td>\n",
              "    </tr>\n",
              "  </tbody>\n",
              "</table>\n",
              "</div>\n",
              "      <button class=\"colab-df-convert\" onclick=\"convertToInteractive('df-6f5439f4-e612-4876-8b77-c5d4a18e00c4')\"\n",
              "              title=\"Convert this dataframe to an interactive table.\"\n",
              "              style=\"display:none;\">\n",
              "        \n",
              "  <svg xmlns=\"http://www.w3.org/2000/svg\" height=\"24px\"viewBox=\"0 0 24 24\"\n",
              "       width=\"24px\">\n",
              "    <path d=\"M0 0h24v24H0V0z\" fill=\"none\"/>\n",
              "    <path d=\"M18.56 5.44l.94 2.06.94-2.06 2.06-.94-2.06-.94-.94-2.06-.94 2.06-2.06.94zm-11 1L8.5 8.5l.94-2.06 2.06-.94-2.06-.94L8.5 2.5l-.94 2.06-2.06.94zm10 10l.94 2.06.94-2.06 2.06-.94-2.06-.94-.94-2.06-.94 2.06-2.06.94z\"/><path d=\"M17.41 7.96l-1.37-1.37c-.4-.4-.92-.59-1.43-.59-.52 0-1.04.2-1.43.59L10.3 9.45l-7.72 7.72c-.78.78-.78 2.05 0 2.83L4 21.41c.39.39.9.59 1.41.59.51 0 1.02-.2 1.41-.59l7.78-7.78 2.81-2.81c.8-.78.8-2.07 0-2.86zM5.41 20L4 18.59l7.72-7.72 1.47 1.35L5.41 20z\"/>\n",
              "  </svg>\n",
              "      </button>\n",
              "      \n",
              "  <style>\n",
              "    .colab-df-container {\n",
              "      display:flex;\n",
              "      flex-wrap:wrap;\n",
              "      gap: 12px;\n",
              "    }\n",
              "\n",
              "    .colab-df-convert {\n",
              "      background-color: #E8F0FE;\n",
              "      border: none;\n",
              "      border-radius: 50%;\n",
              "      cursor: pointer;\n",
              "      display: none;\n",
              "      fill: #1967D2;\n",
              "      height: 32px;\n",
              "      padding: 0 0 0 0;\n",
              "      width: 32px;\n",
              "    }\n",
              "\n",
              "    .colab-df-convert:hover {\n",
              "      background-color: #E2EBFA;\n",
              "      box-shadow: 0px 1px 2px rgba(60, 64, 67, 0.3), 0px 1px 3px 1px rgba(60, 64, 67, 0.15);\n",
              "      fill: #174EA6;\n",
              "    }\n",
              "\n",
              "    [theme=dark] .colab-df-convert {\n",
              "      background-color: #3B4455;\n",
              "      fill: #D2E3FC;\n",
              "    }\n",
              "\n",
              "    [theme=dark] .colab-df-convert:hover {\n",
              "      background-color: #434B5C;\n",
              "      box-shadow: 0px 1px 3px 1px rgba(0, 0, 0, 0.15);\n",
              "      filter: drop-shadow(0px 1px 2px rgba(0, 0, 0, 0.3));\n",
              "      fill: #FFFFFF;\n",
              "    }\n",
              "  </style>\n",
              "\n",
              "      <script>\n",
              "        const buttonEl =\n",
              "          document.querySelector('#df-6f5439f4-e612-4876-8b77-c5d4a18e00c4 button.colab-df-convert');\n",
              "        buttonEl.style.display =\n",
              "          google.colab.kernel.accessAllowed ? 'block' : 'none';\n",
              "\n",
              "        async function convertToInteractive(key) {\n",
              "          const element = document.querySelector('#df-6f5439f4-e612-4876-8b77-c5d4a18e00c4');\n",
              "          const dataTable =\n",
              "            await google.colab.kernel.invokeFunction('convertToInteractive',\n",
              "                                                     [key], {});\n",
              "          if (!dataTable) return;\n",
              "\n",
              "          const docLinkHtml = 'Like what you see? Visit the ' +\n",
              "            '<a target=\"_blank\" href=https://colab.research.google.com/notebooks/data_table.ipynb>data table notebook</a>'\n",
              "            + ' to learn more about interactive tables.';\n",
              "          element.innerHTML = '';\n",
              "          dataTable['output_type'] = 'display_data';\n",
              "          await google.colab.output.renderOutput(dataTable, element);\n",
              "          const docLink = document.createElement('div');\n",
              "          docLink.innerHTML = docLinkHtml;\n",
              "          element.appendChild(docLink);\n",
              "        }\n",
              "      </script>\n",
              "    </div>\n",
              "  </div>\n",
              "  "
            ]
          },
          "metadata": {},
          "execution_count": 7
        }
      ]
    },
    {
      "cell_type": "code",
      "source": [
        "# Correlação entre as variáveis\n",
        "plt.figure(figsize = (16,8))\n",
        "heatmap = sns.heatmap(data.corr(), annot=True)\n",
        "heatmap.set_title('Correlação entre variáveis', fontdict={'fontsize':12}, pad=12);"
      ],
      "metadata": {
        "colab": {
          "base_uri": "https://localhost:8080/",
          "height": 505
        },
        "id": "mm4i4W7UCd_6",
        "outputId": "d59f42a5-392c-421e-e8f8-d9c3e12a4312"
      },
      "execution_count": 52,
      "outputs": [
        {
          "output_type": "display_data",
          "data": {
            "text/plain": [
              "<Figure size 1152x576 with 2 Axes>"
            ],
            "image/png": "[encoded data removed]"
          },
          "metadata": {
            "needs_background": "light"
          }
        }
      ]
    },
    {
      "cell_type": "markdown",
      "source": [
        "## Modelo de árvore de decisão regressão"
      ],
      "metadata": {
        "id": "s1Uphbwd3l4F"
      }
    },
    {
      "cell_type": "code",
      "source": [
        "from sklearn.tree import DecisionTreeRegressor, plot_tree\n",
        "from sklearn.model_selection import train_test_split, cross_val_score\n",
        "from sklearn.metrics import mean_squared_error, mean_absolute_error, accuracy_score"
      ],
      "metadata": {
        "id": "lkGj8RyT12q5"
      },
      "execution_count": 9,
      "outputs": []
    },
    {
      "cell_type": "code",
      "source": [
        "# Dividindo as variáveis independentes da target\n",
        "X = data.drop(columns=['Yearly Amount Spent'])\n",
        "y = data['Yearly Amount Spent']\n",
        "\n",
        "print(X.shape, y.shape)"
      ],
      "metadata": {
        "colab": {
          "base_uri": "https://localhost:8080/"
        },
        "id": "w-yRXRJ74ClU",
        "outputId": "8ff04eea-3fe3-41a0-8569-9c1143e7bc43"
      },
      "execution_count": 10,
      "outputs": [
        {
          "output_type": "stream",
          "name": "stdout",
          "text": [
            "(500, 4) (500,)\n"
          ]
        }
      ]
    },
    {
      "cell_type": "code",
      "source": [
        "# Dividindo os dados em treino e teste\n",
        "x_train, x_test, y_train, y_test = train_test_split(X, y, train_size=0.7, random_state=0)"
      ],
      "metadata": {
        "id": "c9FuXhxN4TzH"
      },
      "execution_count": 11,
      "outputs": []
    },
    {
      "cell_type": "code",
      "source": [
        "# Avaliando o melhor valor para usar no parâmetro 'min_sample_leaf'\n",
        "mse_variance = []\n",
        "for t in range(1,20):\n",
        "  model = DecisionTreeRegressor(min_samples_leaf=t, random_state=0)\n",
        "  model.fit(x_train, y_train)\n",
        "  p = model.predict(x_test)\n",
        "  msqe = mean_squared_error(y_test, p)\n",
        "  mse_variance.append(np.sqrt(msqe))"
      ],
      "metadata": {
        "id": "wEreUWKQAff7"
      },
      "execution_count": 12,
      "outputs": []
    },
    {
      "cell_type": "code",
      "source": [
        "import matplotlib.pyplot as plt\n",
        "%matplotlib inline "
      ],
      "metadata": {
        "id": "dbvmYyxgwB83"
      },
      "execution_count": 21,
      "outputs": []
    },
    {
      "cell_type": "code",
      "source": [
        "# Plot de gráfico\n",
        "plt.figure(figsize=(16,8))\n",
        "plt.plot(range(1,20), mse_variance)\n",
        "plt.title('Análise de desempenho do modelo variando o número mínimo de samples numa folha')\n",
        "plt.xlabel('Min sample leaf')\n",
        "plt.ylabel('Mean squared Error')\n",
        "plt.show()"
      ],
      "metadata": {
        "colab": {
          "base_uri": "https://localhost:8080/",
          "height": 513
        },
        "id": "jyHMazcvBPF-",
        "outputId": "fbc6c549-4198-4828-c926-e413d10b595f"
      },
      "execution_count": 53,
      "outputs": [
        {
          "output_type": "display_data",
          "data": {
            "text/plain": [
              "<Figure size 1152x576 with 1 Axes>"
            ],
            "image/png": "[encoded data removed]"
          },
          "metadata": {
            "needs_background": "light"
          }
        }
      ]
    },
    {
      "cell_type": "code",
      "source": [
        "# Criando o modelo de árvore de decisão de regressão\n",
        "tree = DecisionTreeRegressor(min_samples_leaf=2, random_state=0)\n",
        "tree.fit(x_train, y_train)"
      ],
      "metadata": {
        "colab": {
          "base_uri": "https://localhost:8080/"
        },
        "id": "VJ_qd1i8AEp0",
        "outputId": "be6df30d-1ef3-4a95-c158-0ebbbf540060"
      },
      "execution_count": 14,
      "outputs": [
        {
          "output_type": "execute_result",
          "data": {
            "text/plain": [
              "DecisionTreeRegressor(min_samples_leaf=2, random_state=0)"
            ]
          },
          "metadata": {},
          "execution_count": 14
        }
      ]
    },
    {
      "cell_type": "code",
      "source": [
        "# Predição dos valores utilizando os dados de teste\n",
        "pred = tree.predict(x_test)\n",
        "print(pred)"
      ],
      "metadata": {
        "colab": {
          "base_uri": "https://localhost:8080/"
        },
        "id": "hRDlDz5o12vB",
        "outputId": "b02fedc3-a3ef-4d37-8532-1eefc51d6632"
      },
      "execution_count": 15,
      "outputs": [
        {
          "output_type": "stream",
          "name": "stdout",
          "text": [
            "[445.3242024  473.89944632 408.41735708 509.80384936 509.80384936\n",
            " 466.13868506 407.14618486 379.45647429 492.98215021 601.4080781\n",
            " 539.44363864 544.53562115 537.04120165 434.49383349 457.42321036\n",
            " 446.40298666 551.26081135 408.08117792 551.26081135 477.21447792\n",
            " 663.17062127 522.99309376 398.32254817 568.54437035 551.26081135\n",
            " 402.23015747 445.3242024  366.00701165 572.49031099 440.32439425\n",
            " 564.41213344 506.25170266 535.95193986 473.89944632 476.54621661\n",
            " 405.3961836  537.04120165 448.2975811  569.49104866 407.14618486\n",
            " 521.45384856 576.55314628 609.19992487 570.83167751 397.46390092\n",
            " 408.08117792 526.92714538 440.563145   506.25170266 398.32254817\n",
            " 487.22931136 416.86659881 552.99420461 491.41441474 448.2975811\n",
            " 476.54621661 553.91007491 312.70543289 585.04552489 469.76686785\n",
            " 476.54621661 456.28484765 494.99329918 555.49464845 508.59909268\n",
            " 379.45647429 407.14618486 457.42321036 629.24302132 431.73664036\n",
            " 456.28484765 676.15525868 468.22873368 481.95260524 408.41735708\n",
            " 434.72123386 609.19992487 521.17116444 483.63052171 435.19830296\n",
            " 493.74845708 517.58490199 559.85807719 490.02238217 547.17766289\n",
            " 521.45384856 553.91007491 673.98356215 416.86659881 491.41441474\n",
            " 513.86220757 508.59909268 361.45882906 457.42321036 508.23318048\n",
            " 408.08117792 521.17116444 508.23318048 608.36003498 416.86659881\n",
            " 416.86659881 482.97075947 608.36003498 407.14618486 519.95137767\n",
            " 434.72123386 408.08117792 492.82992786 333.85289822 521.17116444\n",
            " 562.29574879 532.73135957 405.3961836  541.70410792 402.23015747\n",
            " 491.09703391 407.14618486 469.76686785 506.25170266 490.02238217\n",
            " 559.85807719 428.60497124 401.07549691 601.4080781  490.02238217\n",
            " 525.31533964 544.53562115 398.32254817 500.38419386 609.19992487\n",
            " 508.23318048 434.72123386 521.45384856 458.03356925 458.03356925\n",
            " 465.11834814 521.45384856 536.67313131 479.86730361 442.6294153\n",
            " 448.2975811  358.19217994 549.91079733 569.49104866 585.04552489\n",
            " 558.10570487 549.91079733 531.85096875 405.3961836  629.24302132]\n"
          ]
        }
      ]
    },
    {
      "cell_type": "code",
      "source": [
        "# Calculando o erro quadrático médio\n",
        "mse = mean_squared_error(y_test, pred)\n",
        "print(f\"O erro quadrático médio é de {np.sqrt(mse):.4f}\")"
      ],
      "metadata": {
        "colab": {
          "base_uri": "https://localhost:8080/"
        },
        "id": "msG0JNU-AIDA",
        "outputId": "7ecb10c1-1f5e-4439-a5e2-1849cb68b3c1"
      },
      "execution_count": 16,
      "outputs": [
        {
          "output_type": "stream",
          "name": "stdout",
          "text": [
            "O erro quadrático médio é de 29.6348\n"
          ]
        }
      ]
    },
    {
      "cell_type": "code",
      "source": [
        "# Calculando o score do modelo\n",
        "score = tree.score(x_test, y_test)\n",
        "print(f\"O score é de {score*100:.2f}%\")"
      ],
      "metadata": {
        "colab": {
          "base_uri": "https://localhost:8080/"
        },
        "id": "VGqkYRNE988V",
        "outputId": "4bc99610-79ff-47ad-aa7a-974dc330c1d1"
      },
      "execution_count": 17,
      "outputs": [
        {
          "output_type": "stream",
          "name": "stdout",
          "text": [
            "O score é de 86.00%\n"
          ]
        }
      ]
    },
    {
      "cell_type": "code",
      "source": [
        "# Calculando a média dos valores da score através da validação cruzada\n",
        "cvs = cross_val_score(tree, x_train, y_train, cv=10)\n",
        "print(f\"Média dos valores da score ao realizar a validção cruzada é de {np.mean(cvs)*100:.4f}%\")"
      ],
      "metadata": {
        "colab": {
          "base_uri": "https://localhost:8080/"
        },
        "id": "YfCZDlRC99C5",
        "outputId": "2cfa0995-dd4a-4c22-d5b5-0e46982ec867"
      },
      "execution_count": 26,
      "outputs": [
        {
          "output_type": "stream",
          "name": "stdout",
          "text": [
            "Média dos valores da score ao realizar a validção cruzada é de 83.3002%\n"
          ]
        }
      ]
    },
    {
      "cell_type": "code",
      "source": [
        "# Plot da árvore de decisão criada\n",
        "plt.figure(figsize=(16,8))\n",
        "plot_tree(tree, feature_names=X.columns)"
      ],
      "metadata": {
        "colab": {
          "base_uri": "https://localhost:8080/",
          "height": 1000
        },
        "id": "FdsKKFJ412zS",
        "outputId": "5ce2163a-3307-40b5-9e71-2464bfdcbe63"
      },
      "execution_count": 54,
      "outputs": [
        {
          "output_type": "execute_result",
          "data": {
            "text/plain": [
              "[Text(0.5087151394422311, 0.9583333333333334, 'Length of Membership <= 3.591\\nsquared_error = 6262.812\\nsamples = 350\\nvalue = 501.617'),\n",
              " Text(0.1797808764940239, 0.875, 'Length of Membership <= 2.626\\nsquared_error = 3681.612\\nsamples = 179\\nvalue = 449.79'),\n",
              " Text(0.050962815405046484, 0.7916666666666666, 'Time on App <= 11.031\\nsquared_error = 3120.135\\nsamples = 50\\nvalue = 390.151'),\n",
              " Text(0.021248339973439574, 0.7083333333333334, 'Length of Membership <= 1.876\\nsquared_error = 1318.394\\nsamples = 9\\nvalue = 316.957'),\n",
              " Text(0.010624169986719787, 0.625, 'Avg. Session Length <= 33.252\\nsquared_error = 386.597\\nsamples = 4\\nvalue = 284.729'),\n",
              " Text(0.005312084993359893, 0.5416666666666666, 'squared_error = 92.62\\nsamples = 2\\nvalue = 266.295'),\n",
              " Text(0.01593625498007968, 0.5416666666666666, 'squared_error = 0.947\\nsamples = 2\\nvalue = 303.163'),\n",
              " Text(0.03187250996015936, 0.625, 'Time on Website <= 36.815\\nsquared_error = 568.143\\nsamples = 5\\nvalue = 342.74'),\n",
              " Text(0.02656042496679947, 0.5416666666666666, 'squared_error = 121.735\\nsamples = 2\\nvalue = 319.561'),\n",
              " Text(0.03718459495351926, 0.5416666666666666, 'squared_error = 268.804\\nsamples = 3\\nvalue = 358.192'),\n",
              " Text(0.08067729083665338, 0.7083333333333334, 'Length of Membership <= 1.295\\nsquared_error = 2081.493\\nsamples = 41\\nvalue = 406.218'),\n",
              " Text(0.05312084993359894, 0.625, 'Length of Membership <= 1.112\\nsquared_error = 1305.685\\nsamples = 6\\nvalue = 337.082'),\n",
              " Text(0.04780876494023904, 0.5416666666666666, 'squared_error = 1397.032\\nsamples = 3\\nvalue = 312.705'),\n",
              " Text(0.05843293492695883, 0.5416666666666666, 'squared_error = 25.891\\nsamples = 3\\nvalue = 361.459'),\n",
              " Text(0.10823373173970784, 0.625, 'Time on App <= 12.218\\nsquared_error = 1254.641\\nsamples = 35\\nvalue = 418.07'),\n",
              " Text(0.06905710491367861, 0.5416666666666666, 'Avg. Session Length <= 32.227\\nsquared_error = 1065.527\\nsamples = 19\\nvalue = 398.512'),\n",
              " Text(0.05444887118193891, 0.4583333333333333, 'Avg. Session Length <= 31.817\\nsquared_error = 577.764\\nsamples = 4\\nvalue = 351.325'),\n",
              " Text(0.049136786188579015, 0.375, 'squared_error = 193.879\\nsamples = 2\\nvalue = 333.853'),\n",
              " Text(0.05976095617529881, 0.375, 'squared_error = 351.122\\nsamples = 2\\nvalue = 368.796'),\n",
              " Text(0.08366533864541832, 0.4583333333333333, 'Avg. Session Length <= 32.956\\nsquared_error = 443.481\\nsamples = 15\\nvalue = 411.096'),\n",
              " Text(0.0703851261620186, 0.375, 'Length of Membership <= 2.301\\nsquared_error = 137.373\\nsamples = 4\\nvalue = 388.89'),\n",
              " Text(0.0650730411686587, 0.2916666666666667, 'squared_error = 8.759\\nsamples = 2\\nvalue = 379.456'),\n",
              " Text(0.07569721115537849, 0.2916666666666667, 'squared_error = 88.022\\nsamples = 2\\nvalue = 398.323'),\n",
              " Text(0.09694555112881806, 0.375, 'Length of Membership <= 2.106\\nsquared_error = 310.277\\nsamples = 11\\nvalue = 419.17'),\n",
              " Text(0.08632138114209828, 0.2916666666666667, 'Time on App <= 11.71\\nsquared_error = 14.218\\nsamples = 4\\nvalue = 404.746'),\n",
              " Text(0.08100929614873838, 0.20833333333333334, 'squared_error = 0.293\\nsamples = 2\\nvalue = 408.417'),\n",
              " Text(0.09163346613545817, 0.20833333333333334, 'squared_error = 1.192\\nsamples = 2\\nvalue = 401.075'),\n",
              " Text(0.10756972111553785, 0.2916666666666667, 'Time on App <= 11.311\\nsquared_error = 292.632\\nsamples = 7\\nvalue = 427.413'),\n",
              " Text(0.10225763612217796, 0.20833333333333334, 'squared_error = 63.61\\nsamples = 2\\nvalue = 405.396'),\n",
              " Text(0.11288180610889774, 0.20833333333333334, 'Length of Membership <= 2.375\\nsquared_error = 112.792\\nsamples = 5\\nvalue = 436.219'),\n",
              " Text(0.10756972111553785, 0.125, 'squared_error = 18.497\\nsamples = 3\\nvalue = 428.167'),\n",
              " Text(0.11819389110225764, 0.125, 'squared_error = 11.096\\nsamples = 2\\nvalue = 448.298'),\n",
              " Text(0.14741035856573706, 0.5416666666666666, 'Time on Website <= 36.896\\nsquared_error = 485.638\\nsamples = 16\\nvalue = 441.294'),\n",
              " Text(0.1341301460823373, 0.4583333333333333, 'Time on Website <= 36.489\\nsquared_error = 156.778\\nsamples = 8\\nvalue = 454.288'),\n",
              " Text(0.12350597609561753, 0.375, 'Time on Website <= 36.139\\nsquared_error = 18.124\\nsamples = 4\\nvalue = 443.483'),\n",
              " Text(0.11819389110225764, 0.2916666666666667, 'squared_error = 3.337\\nsamples = 2\\nvalue = 446.403'),\n",
              " Text(0.12881806108897742, 0.2916666666666667, 'squared_error = 15.86\\nsamples = 2\\nvalue = 440.563'),\n",
              " Text(0.14475431606905712, 0.375, 'Time on Website <= 36.636\\nsquared_error = 61.943\\nsamples = 4\\nvalue = 465.093'),\n",
              " Text(0.1394422310756972, 0.2916666666666667, 'squared_error = 5.334\\nsamples = 2\\nvalue = 472.762'),\n",
              " Text(0.150066401062417, 0.2916666666666667, 'squared_error = 0.91\\nsamples = 2\\nvalue = 457.423'),\n",
              " Text(0.16069057104913678, 0.4583333333333333, 'Time on Website <= 37.403\\nsquared_error = 476.809\\nsamples = 8\\nvalue = 428.3'),\n",
              " Text(0.1553784860557769, 0.375, 'squared_error = 476.387\\nsamples = 3\\nvalue = 407.146'),\n",
              " Text(0.16600265604249667, 0.375, 'Time on Website <= 38.489\\nsquared_error = 47.484\\nsamples = 5\\nvalue = 440.992'),\n",
              " Text(0.16069057104913678, 0.2916666666666667, 'squared_error = 29.496\\nsamples = 3\\nvalue = 445.324'),\n",
              " Text(0.17131474103585656, 0.2916666666666667, 'squared_error = 4.088\\nsamples = 2\\nvalue = 434.494'),\n",
              " Text(0.30859893758300133, 0.7916666666666666, 'Time on App <= 11.651\\nsquared_error = 1986.281\\nsamples = 129\\nvalue = 472.906'),\n",
              " Text(0.2151394422310757, 0.7083333333333334, 'Avg. Session Length <= 33.592\\nsquared_error = 731.41\\nsamples = 40\\nvalue = 427.71'),\n",
              " Text(0.1952191235059761, 0.625, 'Length of Membership <= 2.923\\nsquared_error = 568.102\\nsamples = 32\\nvalue = 420.137'),\n",
              " Text(0.17662682602921648, 0.5416666666666666, 'Time on App <= 10.873\\nsquared_error = 366.723\\nsamples = 6\\nvalue = 390.517'),\n",
              " Text(0.17131474103585656, 0.4583333333333333, 'squared_error = 88.199\\nsamples = 2\\nvalue = 366.007'),\n",
              " Text(0.18193891102257637, 0.4583333333333333, 'Length of Membership <= 2.827\\nsquared_error = 55.416\\nsamples = 4\\nvalue = 402.773'),\n",
              " Text(0.17662682602921648, 0.375, 'squared_error = 0.291\\nsamples = 2\\nvalue = 408.081'),\n",
              " Text(0.18725099601593626, 0.375, 'squared_error = 54.179\\nsamples = 2\\nvalue = 397.464'),\n",
              " Text(0.21381142098273573, 0.5416666666666666, 'Time on App <= 10.488\\nsquared_error = 365.393\\nsamples = 26\\nvalue = 426.972'),\n",
              " Text(0.20318725099601595, 0.4583333333333333, 'Time on Website <= 37.85\\nsquared_error = 74.572\\nsamples = 4\\nvalue = 398.213'),\n",
              " Text(0.19787516600265603, 0.375, 'squared_error = 70.104\\nsamples = 2\\nvalue = 402.23'),\n",
              " Text(0.20849933598937584, 0.375, 'squared_error = 46.759\\nsamples = 2\\nvalue = 394.195'),\n",
              " Text(0.2244355909694555, 0.4583333333333333, 'Avg. Session Length <= 31.605\\nsquared_error = 240.54\\nsamples = 22\\nvalue = 432.201'),\n",
              " Text(0.21912350597609562, 0.375, 'squared_error = 77.196\\nsamples = 2\\nvalue = 401.284'),\n",
              " Text(0.2297476759628154, 0.375, 'Time on App <= 11.109\\nsquared_error = 151.724\\nsamples = 20\\nvalue = 435.293'),\n",
              " Text(0.21912350597609562, 0.2916666666666667, 'Length of Membership <= 3.251\\nsquared_error = 136.432\\nsamples = 10\\nvalue = 428.607'),\n",
              " Text(0.21381142098273573, 0.20833333333333334, 'squared_error = 15.585\\nsamples = 3\\nvalue = 416.867'),\n",
              " Text(0.2244355909694555, 0.20833333333333334, 'Avg. Session Length <= 32.399\\nsquared_error = 103.829\\nsamples = 7\\nvalue = 433.639'),\n",
              " Text(0.21912350597609562, 0.125, 'Length of Membership <= 3.531\\nsquared_error = 64.408\\nsamples = 4\\nvalue = 426.896'),\n",
              " Text(0.21381142098273573, 0.041666666666666664, 'squared_error = 10.645\\nsamples = 2\\nvalue = 421.413'),\n",
              " Text(0.2244355909694555, 0.041666666666666664, 'squared_error = 58.028\\nsamples = 2\\nvalue = 432.38'),\n",
              " Text(0.2297476759628154, 0.125, 'squared_error = 14.946\\nsamples = 3\\nvalue = 442.629'),\n",
              " Text(0.2403718459495352, 0.2916666666666667, 'Time on Website <= 36.774\\nsquared_error = 77.615\\nsamples = 10\\nvalue = 441.979'),\n",
              " Text(0.2350597609561753, 0.20833333333333334, 'squared_error = 15.025\\nsamples = 2\\nvalue = 428.605'),\n",
              " Text(0.2456839309428951, 0.20833333333333334, 'Time on App <= 11.525\\nsquared_error = 37.367\\nsamples = 8\\nvalue = 445.323'),\n",
              " Text(0.2403718459495352, 0.125, 'squared_error = 8.317\\nsamples = 3\\nvalue = 449.816'),\n",
              " Text(0.250996015936255, 0.125, 'Length of Membership <= 3.256\\nsquared_error = 35.414\\nsamples = 5\\nvalue = 442.626'),\n",
              " Text(0.2456839309428951, 0.041666666666666664, 'squared_error = 43.181\\nsamples = 3\\nvalue = 440.45'),\n",
              " Text(0.25630810092961487, 0.041666666666666664, 'squared_error = 5.999\\nsamples = 2\\nvalue = 445.891'),\n",
              " Text(0.2350597609561753, 0.625, 'Length of Membership <= 3.056\\nsquared_error = 237.7\\nsamples = 8\\nvalue = 458.001'),\n",
              " Text(0.2297476759628154, 0.5416666666666666, 'squared_error = 63.139\\nsamples = 2\\nvalue = 434.721'),\n",
              " Text(0.2403718459495352, 0.5416666666666666, 'Time on Website <= 36.181\\nsquared_error = 55.023\\nsamples = 6\\nvalue = 465.761'),\n",
              " Text(0.2350597609561753, 0.4583333333333333, 'squared_error = 23.659\\nsamples = 2\\nvalue = 458.034'),\n",
              " Text(0.2456839309428951, 0.4583333333333333, 'Time on Website <= 36.983\\nsquared_error = 25.922\\nsamples = 4\\nvalue = 469.624'),\n",
              " Text(0.2403718459495352, 0.375, 'squared_error = 0.161\\nsamples = 2\\nvalue = 474.131'),\n",
              " Text(0.250996015936255, 0.375, 'squared_error = 11.072\\nsamples = 2\\nvalue = 465.118'),\n",
              " Text(0.40205843293492693, 0.7083333333333334, 'Time on App <= 12.711\\nsquared_error = 1219.604\\nsamples = 89\\nvalue = 493.219'),\n",
              " Text(0.349933598937583, 0.625, 'Avg. Session Length <= 33.068\\nsquared_error = 769.776\\nsamples = 56\\nvalue = 477.847'),\n",
              " Text(0.30278884462151395, 0.5416666666666666, 'Length of Membership <= 3.212\\nsquared_error = 641.917\\nsamples = 30\\nvalue = 462.973'),\n",
              " Text(0.28021248339973437, 0.4583333333333333, 'Time on App <= 12.484\\nsquared_error = 573.286\\nsamples = 15\\nvalue = 445.442'),\n",
              " Text(0.2749003984063745, 0.375, 'Length of Membership <= 2.879\\nsquared_error = 415.039\\nsamples = 13\\nvalue = 439.777'),\n",
              " Text(0.26162018592297476, 0.2916666666666667, 'Avg. Session Length <= 32.704\\nsquared_error = 195.407\\nsamples = 4\\nvalue = 420.804'),\n",
              " Text(0.25630810092961487, 0.20833333333333334, 'squared_error = 0.193\\nsamples = 2\\nvalue = 408.656'),\n",
              " Text(0.26693227091633465, 0.20833333333333334, 'squared_error = 95.481\\nsamples = 2\\nvalue = 432.951'),\n",
              " Text(0.28818061088977426, 0.2916666666666667, 'Avg. Session Length <= 32.062\\nsquared_error = 281.539\\nsamples = 9\\nvalue = 448.21'),\n",
              " Text(0.2775564409030544, 0.20833333333333334, 'Length of Membership <= 3.126\\nsquared_error = 69.151\\nsamples = 4\\nvalue = 433.467'),\n",
              " Text(0.27224435590969454, 0.125, 'squared_error = 68.329\\nsamples = 2\\nvalue = 431.737'),\n",
              " Text(0.28286852589641437, 0.125, 'squared_error = 63.983\\nsamples = 2\\nvalue = 435.198'),\n",
              " Text(0.29880478087649404, 0.20833333333333334, 'Avg. Session Length <= 32.388\\nsquared_error = 138.468\\nsamples = 5\\nvalue = 460.004'),\n",
              " Text(0.29349269588313415, 0.125, 'squared_error = 115.297\\nsamples = 3\\nvalue = 453.25'),\n",
              " Text(0.3041168658698539, 0.125, 'squared_error = 2.153\\nsamples = 2\\nvalue = 470.136'),\n",
              " Text(0.2855245683930943, 0.375, 'squared_error = 37.505\\nsamples = 2\\nvalue = 482.263'),\n",
              " Text(0.3253652058432935, 0.4583333333333333, 'Length of Membership <= 3.378\\nsquared_error = 95.904\\nsamples = 15\\nvalue = 480.503'),\n",
              " Text(0.3094289508632138, 0.375, 'Avg. Session Length <= 32.027\\nsquared_error = 60.873\\nsamples = 6\\nvalue = 473.582'),\n",
              " Text(0.3041168658698539, 0.2916666666666667, 'squared_error = 46.971\\nsamples = 2\\nvalue = 466.139'),\n",
              " Text(0.3147410358565737, 0.2916666666666667, 'Time on App <= 12.391\\nsquared_error = 26.272\\nsamples = 4\\nvalue = 477.304'),\n",
              " Text(0.3094289508632138, 0.20833333333333334, 'squared_error = 24.86\\nsamples = 2\\nvalue = 473.899'),\n",
              " Text(0.3200531208499336, 0.20833333333333334, 'squared_error = 4.509\\nsamples = 2\\nvalue = 480.708'),\n",
              " Text(0.34130146082337315, 0.375, 'Time on App <= 12.467\\nsquared_error = 66.028\\nsamples = 9\\nvalue = 485.118'),\n",
              " Text(0.33598937583001326, 0.2916666666666667, 'Length of Membership <= 3.456\\nsquared_error = 57.104\\nsamples = 7\\nvalue = 482.914'),\n",
              " Text(0.33067729083665337, 0.20833333333333334, 'squared_error = 33.883\\nsamples = 3\\nvalue = 477.214'),\n",
              " Text(0.34130146082337315, 0.20833333333333334, 'Avg. Session Length <= 32.694\\nsquared_error = 31.881\\nsamples = 4\\nvalue = 487.189'),\n",
              " Text(0.33598937583001326, 0.125, 'squared_error = 0.682\\nsamples = 2\\nvalue = 482.971'),\n",
              " Text(0.3466135458167331, 0.125, 'squared_error = 27.494\\nsamples = 2\\nvalue = 491.407'),\n",
              " Text(0.3466135458167331, 0.2916666666666667, 'squared_error = 20.79\\nsamples = 2\\nvalue = 492.83'),\n",
              " Text(0.39707835325365204, 0.5416666666666666, 'Avg. Session Length <= 34.536\\nsquared_error = 367.449\\nsamples = 26\\nvalue = 495.01'),\n",
              " Text(0.39176626826029215, 0.4583333333333333, 'Length of Membership <= 3.205\\nsquared_error = 150.347\\nsamples = 23\\nvalue = 489.528'),\n",
              " Text(0.3784860557768924, 0.375, 'Time on Website <= 36.579\\nsquared_error = 110.25\\nsamples = 16\\nvalue = 485.401'),\n",
              " Text(0.36786188579017265, 0.2916666666666667, 'Time on App <= 12.507\\nsquared_error = 27.601\\nsamples = 6\\nvalue = 493.302'),\n",
              " Text(0.36254980079681276, 0.20833333333333334, 'Time on App <= 12.286\\nsquared_error = 1.86\\nsamples = 4\\nvalue = 496.338'),\n",
              " Text(0.35723771580345287, 0.125, 'squared_error = 0.094\\nsamples = 2\\nvalue = 494.993'),\n",
              " Text(0.36786188579017265, 0.125, 'squared_error = 0.009\\nsamples = 2\\nvalue = 497.683'),\n",
              " Text(0.37317397078353254, 0.20833333333333334, 'squared_error = 23.773\\nsamples = 2\\nvalue = 487.229'),\n",
              " Text(0.3891102257636122, 0.2916666666666667, 'Time on App <= 11.876\\nsquared_error = 99.912\\nsamples = 10\\nvalue = 480.66'),\n",
              " Text(0.3837981407702523, 0.20833333333333334, 'squared_error = 81.936\\nsamples = 2\\nvalue = 470.68'),\n",
              " Text(0.3944223107569721, 0.20833333333333334, 'Length of Membership <= 3.093\\nsquared_error = 73.28\\nsamples = 8\\nvalue = 483.155'),\n",
              " Text(0.3891102257636122, 0.125, 'Time on Website <= 37.53\\nsquared_error = 44.529\\nsamples = 6\\nvalue = 486.684'),\n",
              " Text(0.3837981407702523, 0.041666666666666664, 'squared_error = 14.725\\nsamples = 3\\nvalue = 481.953'),\n",
              " Text(0.3944223107569721, 0.041666666666666664, 'squared_error = 29.57\\nsamples = 3\\nvalue = 491.414'),\n",
              " Text(0.399734395750332, 0.125, 'squared_error = 10.163\\nsamples = 2\\nvalue = 472.571'),\n",
              " Text(0.4050464807436919, 0.375, 'Time on App <= 11.826\\nsquared_error = 114.079\\nsamples = 7\\nvalue = 498.961'),\n",
              " Text(0.399734395750332, 0.2916666666666667, 'squared_error = 16.126\\nsamples = 2\\nvalue = 483.631'),\n",
              " Text(0.4103585657370518, 0.2916666666666667, 'Time on App <= 11.931\\nsquared_error = 21.642\\nsamples = 5\\nvalue = 505.094'),\n",
              " Text(0.4050464807436919, 0.20833333333333334, 'squared_error = 3.058\\nsamples = 2\\nvalue = 500.384'),\n",
              " Text(0.4156706507304117, 0.20833333333333334, 'squared_error = 9.389\\nsamples = 3\\nvalue = 508.233'),\n",
              " Text(0.40239043824701193, 0.4583333333333333, 'squared_error = 34.865\\nsamples = 3\\nvalue = 537.041'),\n",
              " Text(0.4541832669322709, 0.625, 'Avg. Session Length <= 32.75\\nsquared_error = 901.599\\nsamples = 33\\nvalue = 519.303'),\n",
              " Text(0.4316069057104914, 0.5416666666666666, 'Avg. Session Length <= 32.11\\nsquared_error = 333.814\\nsamples = 14\\nvalue = 494.509'),\n",
              " Text(0.4209827357237716, 0.4583333333333333, 'Length of Membership <= 3.391\\nsquared_error = 196.464\\nsamples = 6\\nvalue = 480.526'),\n",
              " Text(0.4156706507304117, 0.375, 'squared_error = 29.935\\nsamples = 3\\nvalue = 468.229'),\n",
              " Text(0.4262948207171315, 0.375, 'squared_error = 60.534\\nsamples = 3\\nvalue = 492.824'),\n",
              " Text(0.44223107569721115, 0.4583333333333333, 'Time on App <= 13.295\\nsquared_error = 180.199\\nsamples = 8\\nvalue = 504.997'),\n",
              " Text(0.43691899070385126, 0.375, 'Length of Membership <= 3.185\\nsquared_error = 95.831\\nsamples = 6\\nvalue = 499.605'),\n",
              " Text(0.4316069057104914, 0.2916666666666667, 'squared_error = 8.03\\nsamples = 3\\nvalue = 490.544'),\n",
              " Text(0.44223107569721115, 0.2916666666666667, 'squared_error = 19.418\\nsamples = 3\\nvalue = 508.666'),\n",
              " Text(0.44754316069057104, 0.375, 'squared_error = 84.48\\nsamples = 2\\nvalue = 521.171'),\n",
              " Text(0.4767596281540505, 0.5416666666666666, 'Length of Membership <= 3.031\\nsquared_error = 533.252\\nsamples = 19\\nvalue = 537.572'),\n",
              " Text(0.4634794156706507, 0.4583333333333333, 'Time on App <= 13.518\\nsquared_error = 172.144\\nsamples = 6\\nvalue = 510.291'),\n",
              " Text(0.4581673306772908, 0.375, 'Time on App <= 13.123\\nsquared_error = 48.38\\nsamples = 4\\nvalue = 501.973'),\n",
              " Text(0.45285524568393093, 0.2916666666666667, 'squared_error = 4.695\\nsamples = 2\\nvalue = 495.347'),\n",
              " Text(0.4634794156706507, 0.2916666666666667, 'squared_error = 4.255\\nsamples = 2\\nvalue = 508.599'),\n",
              " Text(0.46879150066401065, 0.375, 'squared_error = 4.535\\nsamples = 2\\nvalue = 526.927'),\n",
              " Text(0.4900398406374502, 0.4583333333333333, 'Avg. Session Length <= 34.078\\nsquared_error = 197.876\\nsamples = 13\\nvalue = 550.163'),\n",
              " Text(0.47941567065073043, 0.375, 'Time on App <= 13.423\\nsquared_error = 42.354\\nsamples = 9\\nvalue = 543.128'),\n",
              " Text(0.47410358565737054, 0.2916666666666667, 'Avg. Session Length <= 33.471\\nsquared_error = 37.321\\nsamples = 7\\nvalue = 541.19'),\n",
              " Text(0.46879150066401065, 0.20833333333333334, 'squared_error = 39.997\\nsamples = 3\\nvalue = 536.673'),\n",
              " Text(0.47941567065073043, 0.20833333333333334, 'Length of Membership <= 3.311\\nsquared_error = 8.539\\nsamples = 4\\nvalue = 544.577'),\n",
              " Text(0.47410358565737054, 0.125, 'squared_error = 0.502\\nsamples = 2\\nvalue = 541.704'),\n",
              " Text(0.4847277556440903, 0.125, 'squared_error = 0.067\\nsamples = 2\\nvalue = 547.45'),\n",
              " Text(0.4847277556440903, 0.2916666666666667, 'squared_error = 0.815\\nsamples = 2\\nvalue = 549.911'),\n",
              " Text(0.50066401062417, 0.375, 'Length of Membership <= 3.257\\nsquared_error = 185.839\\nsamples = 4\\nvalue = 565.993'),\n",
              " Text(0.4953519256308101, 0.2916666666666667, 'squared_error = 147.903\\nsamples = 2\\nvalue = 569.691'),\n",
              " Text(0.5059760956175299, 0.2916666666666667, 'squared_error = 196.432\\nsamples = 2\\nvalue = 562.296'),\n",
              " Text(0.8376494023904383, 0.875, 'Length of Membership <= 4.964\\nsquared_error = 3209.711\\nsamples = 171\\nvalue = 555.87'),\n",
              " Text(0.7377158034528553, 0.7916666666666666, 'Time on App <= 12.88\\nsquared_error = 2027.039\\nsamples = 142\\nvalue = 541.745'),\n",
              " Text(0.6228419654714475, 0.7083333333333334, 'Length of Membership <= 3.999\\nsquared_error = 1444.898\\nsamples = 110\\nvalue = 527.818'),\n",
              " Text(0.5444887118193891, 0.625, 'Time on App <= 11.405\\nsquared_error = 1017.162\\nsamples = 41\\nvalue = 500.833'),\n",
              " Text(0.5219123505976095, 0.5416666666666666, 'Avg. Session Length <= 32.102\\nsquared_error = 459.647\\nsamples = 13\\nvalue = 467.562'),\n",
              " Text(0.5166002656042497, 0.4583333333333333, 'squared_error = 48.393\\nsamples = 3\\nvalue = 440.324'),\n",
              " Text(0.5272244355909694, 0.4583333333333333, 'Time on App <= 11.028\\nsquared_error = 293.688\\nsamples = 10\\nvalue = 475.733'),\n",
              " Text(0.5219123505976095, 0.375, 'Time on App <= 10.567\\nsquared_error = 98.66\\nsamples = 7\\nvalue = 468.341'),\n",
              " Text(0.5166002656042497, 0.2916666666666667, 'squared_error = 23.304\\nsamples = 2\\nvalue = 456.285'),\n",
              " Text(0.5272244355909694, 0.2916666666666667, 'Avg. Session Length <= 33.49\\nsquared_error = 47.408\\nsamples = 5\\nvalue = 473.163'),\n",
              " Text(0.5219123505976095, 0.20833333333333334, 'squared_error = 20.066\\nsamples = 3\\nvalue = 468.694'),\n",
              " Text(0.5325365205843293, 0.20833333333333334, 'squared_error = 13.512\\nsamples = 2\\nvalue = 479.867'),\n",
              " Text(0.5325365205843293, 0.375, 'squared_error = 323.717\\nsamples = 3\\nvalue = 492.982'),\n",
              " Text(0.5670650730411687, 0.5416666666666666, 'Avg. Session Length <= 32.646\\nsquared_error = 523.42\\nsamples = 28\\nvalue = 516.281'),\n",
              " Text(0.548472775564409, 0.4583333333333333, 'Time on App <= 11.922\\nsquared_error = 278.333\\nsamples = 10\\nvalue = 492.39'),\n",
              " Text(0.5431606905710491, 0.375, 'squared_error = 434.038\\nsamples = 2\\nvalue = 469.767'),\n",
              " Text(0.5537848605577689, 0.375, 'Length of Membership <= 3.847\\nsquared_error = 79.473\\nsamples = 8\\nvalue = 498.045'),\n",
              " Text(0.548472775564409, 0.2916666666666667, 'Time on App <= 12.657\\nsquared_error = 75.6\\nsamples = 6\\nvalue = 495.31'),\n",
              " Text(0.5431606905710491, 0.20833333333333334, 'Time on App <= 12.242\\nsquared_error = 10.859\\nsamples = 4\\nvalue = 490.808'),\n",
              " Text(0.5378486055776892, 0.125, 'squared_error = 0.645\\nsamples = 2\\nvalue = 493.748'),\n",
              " Text(0.548472775564409, 0.125, 'squared_error = 3.782\\nsamples = 2\\nvalue = 487.868'),\n",
              " Text(0.5537848605577689, 0.20833333333333334, 'squared_error = 83.49\\nsamples = 2\\nvalue = 504.313'),\n",
              " Text(0.5590969455511288, 0.2916666666666667, 'squared_error = 1.296\\nsamples = 2\\nvalue = 506.252'),\n",
              " Text(0.5856573705179283, 0.4583333333333333, 'Time on App <= 11.72\\nsquared_error = 166.298\\nsamples = 18\\nvalue = 529.554'),\n",
              " Text(0.5750332005312085, 0.375, 'Time on App <= 11.622\\nsquared_error = 30.206\\nsamples = 5\\nvalue = 515.351'),\n",
              " Text(0.5697211155378487, 0.2916666666666667, 'squared_error = 42.744\\nsamples = 3\\nvalue = 513.862'),\n",
              " Text(0.5803452855245684, 0.2916666666666667, 'squared_error = 3.084\\nsamples = 2\\nvalue = 517.585'),\n",
              " Text(0.5962815405046481, 0.375, 'Avg. Session Length <= 33.931\\nsquared_error = 111.217\\nsamples = 13\\nvalue = 535.017'),\n",
              " Text(0.5909694555112882, 0.2916666666666667, 'Length of Membership <= 3.725\\nsquared_error = 73.371\\nsamples = 11\\nvalue = 532.063'),\n",
              " Text(0.5856573705179283, 0.20833333333333334, 'squared_error = 15.729\\nsamples = 3\\nvalue = 522.993'),\n",
              " Text(0.5962815405046481, 0.20833333333333334, 'Time on Website <= 37.138\\nsquared_error = 52.569\\nsamples = 8\\nvalue = 535.464'),\n",
              " Text(0.5856573705179283, 0.125, 'Time on Website <= 36.54\\nsquared_error = 5.6\\nsamples = 4\\nvalue = 530.685'),\n",
              " Text(0.5803452855245684, 0.041666666666666664, 'squared_error = 0.029\\nsamples = 2\\nvalue = 529.366'),\n",
              " Text(0.5909694555112882, 0.041666666666666664, 'squared_error = 7.693\\nsamples = 2\\nvalue = 532.004'),\n",
              " Text(0.6069057104913679, 0.125, 'Length of Membership <= 3.836\\nsquared_error = 53.851\\nsamples = 4\\nvalue = 540.244'),\n",
              " Text(0.601593625498008, 0.041666666666666664, 'squared_error = 0.222\\nsamples = 2\\nvalue = 535.952'),\n",
              " Text(0.6122177954847278, 0.041666666666666664, 'squared_error = 70.639\\nsamples = 2\\nvalue = 544.536'),\n",
              " Text(0.601593625498008, 0.2916666666666667, 'squared_error = 7.52\\nsamples = 2\\nvalue = 551.261'),\n",
              " Text(0.701195219123506, 0.625, 'Avg. Session Length <= 33.022\\nsquared_error = 1009.304\\nsamples = 69\\nvalue = 543.852'),\n",
              " Text(0.6520584329349269, 0.5416666666666666, 'Time on App <= 11.348\\nsquared_error = 677.107\\nsamples = 30\\nvalue = 522.49'),\n",
              " Text(0.6281540504648074, 0.4583333333333333, 'Time on App <= 11.002\\nsquared_error = 231.697\\nsamples = 8\\nvalue = 493.767'),\n",
              " Text(0.6175298804780877, 0.375, 'Length of Membership <= 4.58\\nsquared_error = 120.712\\nsamples = 4\\nvalue = 483.284'),\n",
              " Text(0.6122177954847278, 0.2916666666666667, 'squared_error = 10.149\\nsamples = 2\\nvalue = 476.546'),\n",
              " Text(0.6228419654714475, 0.2916666666666667, 'squared_error = 140.471\\nsamples = 2\\nvalue = 490.022'),\n",
              " Text(0.6387782204515272, 0.375, 'Avg. Session Length <= 32.596\\nsquared_error = 122.896\\nsamples = 4\\nvalue = 504.25'),\n",
              " Text(0.6334661354581673, 0.2916666666666667, 'squared_error = 10.975\\nsamples = 2\\nvalue = 513.852'),\n",
              " Text(0.6440903054448871, 0.2916666666666667, 'squared_error = 50.422\\nsamples = 2\\nvalue = 494.648'),\n",
              " Text(0.6759628154050464, 0.4583333333333333, 'Time on Website <= 36.761\\nsquared_error = 430.0\\nsamples = 22\\nvalue = 532.934'),\n",
              " Text(0.6600265604249668, 0.375, 'Avg. Session Length <= 31.575\\nsquared_error = 314.985\\nsamples = 10\\nvalue = 517.999'),\n",
              " Text(0.6547144754316069, 0.2916666666666667, 'squared_error = 12.543\\nsamples = 2\\nvalue = 491.097'),\n",
              " Text(0.6653386454183267, 0.2916666666666667, 'Time on App <= 12.068\\nsquared_error = 164.44\\nsamples = 8\\nvalue = 524.724'),\n",
              " Text(0.6600265604249668, 0.20833333333333334, 'Time on Website <= 35.796\\nsquared_error = 51.901\\nsamples = 5\\nvalue = 515.892'),\n",
              " Text(0.6547144754316069, 0.125, 'squared_error = 5.579\\nsamples = 2\\nvalue = 509.804'),\n",
              " Text(0.6653386454183267, 0.125, 'squared_error = 41.594\\nsamples = 3\\nvalue = 519.951'),\n",
              " Text(0.6706507304116865, 0.20833333333333334, 'squared_error = 5.341\\nsamples = 3\\nvalue = 539.444'),\n",
              " Text(0.6918990703851262, 0.375, 'Length of Membership <= 4.864\\nsquared_error = 185.055\\nsamples = 12\\nvalue = 545.38'),\n",
              " Text(0.6865869853917662, 0.2916666666666667, 'Time on App <= 12.447\\nsquared_error = 128.512\\nsamples = 10\\nvalue = 541.963'),\n",
              " Text(0.6812749003984063, 0.20833333333333334, 'Time on Website <= 37.304\\nsquared_error = 39.957\\nsamples = 7\\nvalue = 537.236'),\n",
              " Text(0.6759628154050464, 0.125, 'squared_error = 0.004\\nsamples = 2\\nvalue = 547.178'),\n",
              " Text(0.6865869853917662, 0.125, 'Time on App <= 11.468\\nsquared_error = 0.59\\nsamples = 5\\nvalue = 533.259'),\n",
              " Text(0.6812749003984063, 0.041666666666666664, 'squared_error = 0.428\\nsamples = 2\\nvalue = 534.051'),\n",
              " Text(0.6918990703851262, 0.041666666666666664, 'squared_error = 0.0\\nsamples = 3\\nvalue = 532.731'),\n",
              " Text(0.6918990703851262, 0.20833333333333334, 'squared_error = 161.313\\nsamples = 3\\nvalue = 552.994'),\n",
              " Text(0.6972111553784861, 0.2916666666666667, 'squared_error = 117.571\\nsamples = 2\\nvalue = 562.463'),\n",
              " Text(0.750332005312085, 0.5416666666666666, 'Time on App <= 11.268\\nsquared_error = 643.782\\nsamples = 39\\nvalue = 560.284'),\n",
              " Text(0.7237715803452855, 0.4583333333333333, 'Length of Membership <= 4.267\\nsquared_error = 352.832\\nsamples = 9\\nvalue = 528.688'),\n",
              " Text(0.7131474103585658, 0.375, 'Length of Membership <= 4.023\\nsquared_error = 86.082\\nsamples = 5\\nvalue = 516.744'),\n",
              " Text(0.7078353253652059, 0.2916666666666667, 'squared_error = 20.793\\nsamples = 2\\nvalue = 509.68'),\n",
              " Text(0.7184594953519257, 0.2916666666666667, 'squared_error = 74.155\\nsamples = 3\\nvalue = 521.454'),\n",
              " Text(0.7343957503320053, 0.375, 'Time on App <= 10.711\\nsquared_error = 285.046\\nsamples = 4\\nvalue = 543.618'),\n",
              " Text(0.7290836653386454, 0.2916666666666667, 'squared_error = 37.664\\nsamples = 2\\nvalue = 527.378'),\n",
              " Text(0.7397078353253652, 0.2916666666666667, 'squared_error = 4.946\\nsamples = 2\\nvalue = 559.858'),\n",
              " Text(0.7768924302788844, 0.4583333333333333, 'Time on App <= 11.827\\nsquared_error = 341.725\\nsamples = 30\\nvalue = 569.763'),\n",
              " Text(0.7556440903054449, 0.375, 'Time on App <= 11.393\\nsquared_error = 146.117\\nsamples = 13\\nvalue = 556.731'),\n",
              " Text(0.750332005312085, 0.2916666666666667, 'squared_error = 9.089\\nsamples = 2\\nvalue = 571.732'),\n",
              " Text(0.7609561752988048, 0.2916666666666667, 'Length of Membership <= 4.085\\nsquared_error = 122.675\\nsamples = 11\\nvalue = 554.004'),\n",
              " Text(0.7556440903054449, 0.20833333333333334, 'squared_error = 2.599\\nsamples = 2\\nvalue = 539.438'),\n",
              " Text(0.7662682602921647, 0.20833333333333334, 'Avg. Session Length <= 33.382\\nsquared_error = 91.732\\nsamples = 9\\nvalue = 557.24'),\n",
              " Text(0.7609561752988048, 0.125, 'squared_error = 5.281\\nsamples = 3\\nvalue = 547.986'),\n",
              " Text(0.7715803452855245, 0.125, 'Time on Website <= 37.311\\nsquared_error = 70.729\\nsamples = 6\\nvalue = 561.868'),\n",
              " Text(0.7662682602921647, 0.041666666666666664, 'squared_error = 15.336\\nsamples = 3\\nvalue = 555.495'),\n",
              " Text(0.7768924302788844, 0.041666666666666664, 'squared_error = 44.894\\nsamples = 3\\nvalue = 568.24'),\n",
              " Text(0.798140770252324, 0.375, 'Avg. Session Length <= 33.636\\nsquared_error = 262.127\\nsamples = 17\\nvalue = 579.729'),\n",
              " Text(0.7875166002656042, 0.2916666666666667, 'Length of Membership <= 4.459\\nsquared_error = 92.509\\nsamples = 6\\nvalue = 563.798'),\n",
              " Text(0.7822045152722443, 0.20833333333333334, 'squared_error = 11.039\\nsamples = 3\\nvalue = 558.106'),\n",
              " Text(0.7928286852589641, 0.20833333333333334, 'squared_error = 109.167\\nsamples = 3\\nvalue = 569.491'),\n",
              " Text(0.8087649402390438, 0.2916666666666667, 'Length of Membership <= 4.37\\nsquared_error = 140.724\\nsamples = 11\\nvalue = 588.418'),\n",
              " Text(0.8034528552456839, 0.20833333333333334, 'Length of Membership <= 4.186\\nsquared_error = 60.379\\nsamples = 9\\nvalue = 583.986'),\n",
              " Text(0.7928286852589641, 0.125, 'Avg. Session Length <= 34.272\\nsquared_error = 57.349\\nsamples = 5\\nvalue = 580.023'),\n",
              " Text(0.7875166002656042, 0.041666666666666664, 'squared_error = 42.197\\nsamples = 2\\nvalue = 572.49'),\n",
              " Text(0.798140770252324, 0.041666666666666664, 'squared_error = 4.397\\nsamples = 3\\nvalue = 585.046'),\n",
              " Text(0.8140770252324038, 0.125, 'Time on Website <= 37.085\\nsquared_error = 20.003\\nsamples = 4\\nvalue = 588.939'),\n",
              " Text(0.8087649402390438, 0.041666666666666664, 'squared_error = 21.408\\nsamples = 2\\nvalue = 585.936'),\n",
              " Text(0.8193891102257637, 0.041666666666666664, 'squared_error = 0.556\\nsamples = 2\\nvalue = 591.943'),\n",
              " Text(0.8140770252324038, 0.20833333333333334, 'squared_error = 16.202\\nsamples = 2\\nvalue = 608.36'),\n",
              " Text(0.852589641434263, 0.7083333333333334, 'Avg. Session Length <= 32.581\\nsquared_error = 1069.539\\nsamples = 32\\nvalue = 589.618'),\n",
              " Text(0.8300132802124834, 0.625, 'Time on App <= 13.383\\nsquared_error = 638.548\\nsamples = 10\\nvalue = 558.321'),\n",
              " Text(0.8193891102257637, 0.5416666666666666, 'Length of Membership <= 4.109\\nsquared_error = 107.269\\nsamples = 6\\nvalue = 542.013'),\n",
              " Text(0.8140770252324038, 0.4583333333333333, 'Time on Website <= 37.602\\nsquared_error = 23.029\\nsamples = 4\\nvalue = 536.064'),\n",
              " Text(0.8087649402390438, 0.375, 'squared_error = 1.176\\nsamples = 2\\nvalue = 531.851'),\n",
              " Text(0.8193891102257637, 0.375, 'squared_error = 9.379\\nsamples = 2\\nvalue = 540.278'),\n",
              " Text(0.8247011952191236, 0.4583333333333333, 'squared_error = 63.435\\nsamples = 2\\nvalue = 553.91'),\n",
              " Text(0.8406374501992032, 0.5416666666666666, 'Length of Membership <= 4.058\\nsquared_error = 438.092\\nsamples = 4\\nvalue = 582.784'),\n",
              " Text(0.8353253652058433, 0.4583333333333333, 'squared_error = 46.293\\nsamples = 2\\nvalue = 564.412'),\n",
              " Text(0.8459495351925631, 0.4583333333333333, 'squared_error = 154.837\\nsamples = 2\\nvalue = 601.156'),\n",
              " Text(0.8751660026560425, 0.625, 'Time on App <= 13.215\\nsquared_error = 617.85\\nsamples = 22\\nvalue = 603.844'),\n",
              " Text(0.8618857901726428, 0.5416666666666666, 'Length of Membership <= 4.344\\nsquared_error = 255.93\\nsamples = 8\\nvalue = 583.403'),\n",
              " Text(0.8565737051792829, 0.4583333333333333, 'Avg. Session Length <= 33.408\\nsquared_error = 45.194\\nsamples = 6\\nvalue = 574.805'),\n",
              " Text(0.851261620185923, 0.375, 'squared_error = 23.731\\nsamples = 2\\nvalue = 568.544'),\n",
              " Text(0.8618857901726428, 0.375, 'Time on Website <= 36.95\\nsquared_error = 26.532\\nsamples = 4\\nvalue = 577.935'),\n",
              " Text(0.8565737051792829, 0.2916666666666667, 'squared_error = 21.729\\nsamples = 2\\nvalue = 579.316'),\n",
              " Text(0.8671978751660027, 0.2916666666666667, 'squared_error = 27.517\\nsamples = 2\\nvalue = 576.553'),\n",
              " Text(0.8671978751660027, 0.4583333333333333, 'squared_error = 0.861\\nsamples = 2\\nvalue = 609.2'),\n",
              " Text(0.8884462151394422, 0.5416666666666666, 'Time on Website <= 37.333\\nsquared_error = 449.483\\nsamples = 14\\nvalue = 615.524'),\n",
              " Text(0.8778220451527224, 0.4583333333333333, 'Time on Website <= 36.406\\nsquared_error = 309.076\\nsamples = 9\\nvalue = 604.868'),\n",
              " Text(0.8725099601593626, 0.375, 'squared_error = 4.281\\nsamples = 2\\nvalue = 628.088'),\n",
              " Text(0.8831341301460823, 0.375, 'Time on App <= 13.579\\nsquared_error = 198.098\\nsamples = 7\\nvalue = 598.233'),\n",
              " Text(0.8778220451527224, 0.2916666666666667, 'Length of Membership <= 3.908\\nsquared_error = 186.904\\nsamples = 4\\nvalue = 591.824'),\n",
              " Text(0.8725099601593626, 0.20833333333333334, 'squared_error = 36.508\\nsamples = 2\\nvalue = 579.89'),\n",
              " Text(0.8831341301460823, 0.20833333333333334, 'squared_error = 52.442\\nsamples = 2\\nvalue = 603.758'),\n",
              " Text(0.8884462151394422, 0.2916666666666667, 'squared_error = 85.22\\nsamples = 3\\nvalue = 606.779'),\n",
              " Text(0.899070385126162, 0.4583333333333333, 'Time on Website <= 37.778\\nsquared_error = 129.866\\nsamples = 5\\nvalue = 634.706'),\n",
              " Text(0.8937583001328021, 0.375, 'squared_error = 11.654\\nsamples = 3\\nvalue = 642.797'),\n",
              " Text(0.9043824701195219, 0.375, 'squared_error = 61.681\\nsamples = 2\\nvalue = 622.569'),\n",
              " Text(0.9375830013280213, 0.7916666666666666, 'Time on App <= 11.931\\nsquared_error = 3240.095\\nsamples = 29\\nvalue = 625.034'),\n",
              " Text(0.9150066401062417, 0.7083333333333334, 'Time on Website <= 36.091\\nsquared_error = 1662.254\\nsamples = 11\\nvalue = 572.821'),\n",
              " Text(0.9043824701195219, 0.625, 'Length of Membership <= 5.458\\nsquared_error = 1162.707\\nsamples = 5\\nvalue = 602.519'),\n",
              " Text(0.899070385126162, 0.5416666666666666, 'squared_error = 39.539\\nsamples = 3\\nvalue = 585.011'),\n",
              " Text(0.9096945551128818, 0.5416666666666666, 'squared_error = 1697.948\\nsamples = 2\\nvalue = 628.781'),\n",
              " Text(0.9256308100929614, 0.625, 'Length of Membership <= 5.126\\nsquared_error = 731.143\\nsamples = 6\\nvalue = 548.074'),\n",
              " Text(0.9203187250996016, 0.5416666666666666, 'squared_error = 167.712\\nsamples = 3\\nvalue = 525.315'),\n",
              " Text(0.9309428950863213, 0.5416666666666666, 'squared_error = 258.706\\nsamples = 3\\nvalue = 570.832'),\n",
              " Text(0.9601593625498008, 0.7083333333333334, 'Avg. Session Length <= 32.351\\nsquared_error = 1520.265\\nsamples = 18\\nvalue = 656.941'),\n",
              " Text(0.9468791500664011, 0.625, 'Time on Website <= 36.431\\nsquared_error = 293.876\\nsamples = 4\\nvalue = 605.55'),\n",
              " Text(0.9415670650730412, 0.5416666666666666, 'squared_error = 320.808\\nsamples = 2\\nvalue = 609.692'),\n",
              " Text(0.952191235059761, 0.5416666666666666, 'squared_error = 232.63\\nsamples = 2\\nvalue = 601.408'),\n",
              " Text(0.9734395750332006, 0.625, 'Length of Membership <= 5.526\\nsquared_error = 900.48\\nsamples = 14\\nvalue = 671.625'),\n",
              " Text(0.9628154050464808, 0.5416666666666666, 'Time on App <= 12.905\\nsquared_error = 540.566\\nsamples = 8\\nvalue = 653.694'),\n",
              " Text(0.9575033200531209, 0.4583333333333333, 'squared_error = 298.01\\nsamples = 3\\nvalue = 629.243'),\n",
              " Text(0.9681274900398407, 0.4583333333333333, 'Length of Membership <= 5.18\\nsquared_error = 112.166\\nsamples = 5\\nvalue = 668.364'),\n",
              " Text(0.9628154050464808, 0.375, 'squared_error = 5.438\\nsamples = 3\\nvalue = 663.171'),\n",
              " Text(0.9734395750332006, 0.375, 'squared_error = 171.098\\nsamples = 2\\nvalue = 676.155'),\n",
              " Text(0.9840637450199203, 0.5416666666666666, 'Time on App <= 12.558\\nsquared_error = 380.124\\nsamples = 6\\nvalue = 695.532'),\n",
              " Text(0.9787516600265604, 0.4583333333333333, 'squared_error = 103.63\\nsamples = 2\\nvalue = 673.984'),\n",
              " Text(0.9893758300132802, 0.4583333333333333, 'Length of Membership <= 5.706\\nsquared_error = 170.121\\nsamples = 4\\nvalue = 706.306'),\n",
              " Text(0.9840637450199203, 0.375, 'squared_error = 30.966\\nsamples = 2\\nvalue = 695.352'),\n",
              " Text(0.9946879150066401, 0.375, 'squared_error = 69.303\\nsamples = 2\\nvalue = 717.26')]"
            ]
          },
          "metadata": {},
          "execution_count": 54
        },
        {
          "output_type": "display_data",
          "data": {
            "text/plain": [
              "<Figure size 1152x576 with 1 Axes>"
            ],
            "image/png": "[encoded data removed]"
          },
          "metadata": {
            "needs_background": "light"
          }
        }
      ]
    },
    {
      "cell_type": "code",
      "source": [
        "# Plot do gráfico\n",
        "plt.figure(figsize=(16,8))\n",
        "sns.regplot(x=pred, y=y_test)\n",
        "plt.title('Linha de regressão do modelo')\n",
        "plt.xlabel('Valores previstos')\n",
        "plt.ylabel('Valores reais')"
      ],
      "metadata": {
        "colab": {
          "base_uri": "https://localhost:8080/",
          "height": 530
        },
        "id": "_eFxANUz0ior",
        "outputId": "d21d9da7-8c24-425e-fb21-6acd24f4db44"
      },
      "execution_count": 58,
      "outputs": [
        {
          "output_type": "execute_result",
          "data": {
            "text/plain": [
              "Text(0, 0.5, 'Valores reais')"
            ]
          },
          "metadata": {},
          "execution_count": 58
        },
        {
          "output_type": "display_data",
          "data": {
            "text/plain": [
              "<Figure size 1152x576 with 1 Axes>"
            ],
            "image/png": "[encoded data removed]"
          },
          "metadata": {
            "needs_background": "light"
          }
        }
      ]
    },
    {
      "cell_type": "markdown",
      "source": [
        "Através dos experimentos realizados é possível obter um modelo que possui,\n",
        "* erro quadrático médio de **29.6348**\n",
        "* score de **86%**\n",
        "* média de score da validação cruzada de **83,3%**\n",
        "\n",
        "Portanto, o modelo de árvore de decisão de regressão criado possui um desempenho satisfatório para o problema. "
      ],
      "metadata": {
        "id": "Bpc8xf4ywNzt"
      }
    }
  ]
}